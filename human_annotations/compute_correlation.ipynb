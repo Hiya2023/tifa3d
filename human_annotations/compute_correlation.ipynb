{
 "cells": [
  {
   "cell_type": "code",
   "execution_count": 1,
   "metadata": {},
   "outputs": [],
   "source": [
    "import json\n",
    "import pandas as pd\n",
    "import numpy as np\n",
    "from scipy.stats import kendalltau"
   ]
  },
  {
   "cell_type": "code",
   "execution_count": 2,
   "metadata": {},
   "outputs": [],
   "source": [
    "with open('human_annotations_with_scores.json') as f:\n",
    "    faithfulness_scores = json.load(f)"
   ]
  },
  {
   "cell_type": "code",
   "execution_count": 9,
   "metadata": {},
   "outputs": [],
   "source": [
    "def compute_correlation(metric1, metric2):\n",
    "    metric1_scores = [score[metric1] for score in faithfulness_scores.values()]\n",
    "    metric2_scores = [score[metric2] for score in faithfulness_scores.values()]\n",
    "    \n",
    "    print(\"Spearman's Correlation: \", np.corrcoef(metric1_scores, metric2_scores)[0, 1])\n",
    "    print('Kendall Tau Score: ', kendalltau(metric1_scores, metric2_scores))"
   ]
  },
  {
   "cell_type": "code",
   "execution_count": 12,
   "metadata": {},
   "outputs": [
    {
     "name": "stdout",
     "output_type": "stream",
     "text": [
      "evaluation_metric:  meteor\n",
      "Spearman's Correlation:  0.33965916777485317\n",
      "Kendall Tau Score:  SignificanceResult(statistic=0.27407599432086477, pvalue=5.6746397144623544e-27)\n",
      "--------------------------------------------------\n",
      "evaluation_metric:  bleu\n",
      "Spearman's Correlation:  0.18334016729588443\n",
      "Kendall Tau Score:  SignificanceResult(statistic=0.18791013860699693, pvalue=1.6953563237927615e-13)\n",
      "--------------------------------------------------\n",
      "evaluation_metric:  rouge\n",
      "Spearman's Correlation:  0.3288894058298478\n",
      "Kendall Tau Score:  SignificanceResult(statistic=0.24485782545105927, pvalue=8.57162325093596e-22)\n",
      "--------------------------------------------------\n",
      "evaluation_metric:  spice\n",
      "Spearman's Correlation:  0.3280527854243443\n",
      "Kendall Tau Score:  SignificanceResult(statistic=0.2317581980131657, pvalue=3.56514781502668e-19)\n",
      "--------------------------------------------------\n",
      "evaluation_metric:  clipscore_vitb32\n",
      "Spearman's Correlation:  0.3318181645103688\n",
      "Kendall Tau Score:  SignificanceResult(statistic=0.2314458979024208, pvalue=1.0297315170587327e-19)\n",
      "--------------------------------------------------\n",
      "evaluation_metric:  tifa_vilt\n",
      "Spearman's Correlation:  0.4932251792578269\n",
      "Kendall Tau Score:  SignificanceResult(statistic=0.3824088520807112, pvalue=1.0331785743115682e-47)\n",
      "--------------------------------------------------\n",
      "evaluation_metric:  tifa_git-large\n",
      "Spearman's Correlation:  0.5445007948927731\n",
      "Kendall Tau Score:  SignificanceResult(statistic=0.42550824027221545, pvalue=9.052049477059992e-58)\n",
      "--------------------------------------------------\n",
      "evaluation_metric:  tifa_ofa-large\n",
      "Spearman's Correlation:  0.4961472092111418\n",
      "Kendall Tau Score:  SignificanceResult(statistic=0.37247819040318836, pvalue=4.26927053801655e-45)\n",
      "--------------------------------------------------\n",
      "evaluation_metric:  tifa_blip2-flant5xl\n",
      "Spearman's Correlation:  0.5589831246126169\n",
      "Kendall Tau Score:  SignificanceResult(statistic=0.4359972113027652, pvalue=1.2292097175990149e-60)\n",
      "--------------------------------------------------\n",
      "evaluation_metric:  tifa_mplug-large\n",
      "Spearman's Correlation:  0.5967201059577838\n",
      "Kendall Tau Score:  SignificanceResult(statistic=0.4717164648720951, pvalue=5.679350950334587e-69)\n",
      "--------------------------------------------------\n"
     ]
    }
   ],
   "source": [
    "# compute correlation between human scores and the scores computed by the metrics\n",
    "\n",
    "metrics = ['meteor', 'bleu', 'rouge', 'spice','clipscore_vitb32', \n",
    "           'tifa_vilt', 'tifa_git-large', 'tifa_ofa-large', 'tifa_blip2-flant5xl', 'tifa_mplug-large']\n",
    "\n",
    "for metric in metrics:\n",
    "    print(\"evaluation_metric: \", metric)\n",
    "    compute_correlation('human_avg', metric)\n",
    "    print(\"-\"*50)\n"
   ]
  },
  {
   "cell_type": "code",
   "execution_count": null,
   "metadata": {},
   "outputs": [],
   "source": []
  }
 ],
 "metadata": {
  "kernelspec": {
   "display_name": "pt113",
   "language": "python",
   "name": "python3"
  },
  "language_info": {
   "codemirror_mode": {
    "name": "ipython",
    "version": 3
   },
   "file_extension": ".py",
   "mimetype": "text/x-python",
   "name": "python",
   "nbconvert_exporter": "python",
   "pygments_lexer": "ipython3",
   "version": "3.10.8"
  },
  "orig_nbformat": 4
 },
 "nbformat": 4,
 "nbformat_minor": 2
}
